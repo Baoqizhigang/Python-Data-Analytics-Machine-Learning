{
 "cells": [
  {
   "cell_type": "code",
   "execution_count": 160,
   "id": "a71b3643-107e-4ec4-8c5b-8f1164b3d15d",
   "metadata": {},
   "outputs": [
    {
     "name": "stdout",
     "output_type": "stream",
     "text": [
      "C:\\Users\\Administrator\\Python_Data Analytics & Maching Learning\n"
     ]
    }
   ],
   "source": [
    "# Importing the 'os' module, which provides functions to interact with the operating system\n",
    "import os\n",
    "\n",
    "# Printing the absolute path of the current working directory.\n",
    "# This can be useful for understanding where your files are being saved or loaded from.\n",
    "print(os.path.abspath('.'))"
   ]
  },
  {
   "cell_type": "code",
   "execution_count": 161,
   "id": "ac6dc6bc-d2f2-4e8d-bcfd-4a1c8545dea2",
   "metadata": {},
   "outputs": [],
   "source": [
    "# Importing the NumPy library, which is essential for performing numerical operations in Python.\n",
    "# NumPy provides support for large, multi-dimensional arrays and matrices, as well as high-level\n",
    "# mathematical functions to operate on these arrays. \n",
    "# 'np' is a common alias used to refer to NumPy.\n",
    "import numpy as np"
   ]
  },
  {
   "cell_type": "code",
   "execution_count": 7,
   "id": "dd6500c4-9b97-48f6-b5b5-0722ab5c7449",
   "metadata": {},
   "outputs": [
    {
     "ename": "TypeError",
     "evalue": "can only concatenate list (not \"int\") to list",
     "output_type": "error",
     "traceback": [
      "\u001b[1;31m---------------------------------------------------------------------------\u001b[0m",
      "\u001b[1;31mTypeError\u001b[0m                                 Traceback (most recent call last)",
      "Cell \u001b[1;32mIn[7], line 2\u001b[0m\n\u001b[0;32m      1\u001b[0m array \u001b[38;5;241m=\u001b[39m [\u001b[38;5;241m1\u001b[39m,\u001b[38;5;241m2\u001b[39m,\u001b[38;5;241m3\u001b[39m,\u001b[38;5;241m4\u001b[39m,\u001b[38;5;241m5\u001b[39m]\n\u001b[1;32m----> 2\u001b[0m array \u001b[38;5;241m+\u001b[39m \u001b[38;5;241m1\u001b[39m\n",
      "\u001b[1;31mTypeError\u001b[0m: can only concatenate list (not \"int\") to list"
     ]
    }
   ],
   "source": [
    "# Creating a simple Python list of integers\n",
    "array = [1, 2, 3, 4, 5]\n",
    "\n",
    "# Attempting to add 1 to the list directly, which will raise a TypeError.\n",
    "# Lists do not support element-wise addition. \n",
    "# You cannot add a scalar (like 1) to a list directly; Python expects another list for concatenation.\n",
    "# To perform element-wise addition, we need a NumPy array (shown in the next cells).\n",
    "array + 1\n"
   ]
  },
  {
   "cell_type": "code",
   "execution_count": 162,
   "id": "dca506ce-ad50-4d0c-818e-fc5579981f7f",
   "metadata": {},
   "outputs": [
    {
     "name": "stdout",
     "output_type": "stream",
     "text": [
      "<class 'numpy.ndarray'>\n"
     ]
    }
   ],
   "source": [
    "# Creating a NumPy array from a Python list. NumPy arrays allow element-wise operations.\n",
    "# NumPy arrays are more powerful than Python lists because they support vectorized operations,\n",
    "# which means you can perform mathematical operations on the whole array without loops.\n",
    "array = np.array([1, 2, 3, 4, 5])\n",
    "\n",
    "# Printing the type of the object to confirm it's a NumPy array (numpy.ndarray).\n",
    "print(type(array))"
   ]
  },
  {
   "cell_type": "code",
   "execution_count": 9,
   "id": "5fe09060-248a-47cc-87c9-27e7375db776",
   "metadata": {},
   "outputs": [
    {
     "data": {
      "text/plain": [
       "array([2, 3, 4, 5, 6])"
      ]
     },
     "execution_count": 9,
     "metadata": {},
     "output_type": "execute_result"
    }
   ],
   "source": [
    "# Adding 1 to each element of the NumPy array using element-wise addition.\n",
    "# This is possible because NumPy supports broadcasting, which allows operations\n",
    "# to be automatically applied across all elements of the array.\n",
    "array2 = array + 1\n",
    "\n",
    "# Displaying the result. The output will be a new array with 1 added to each element.\n",
    "array2"
   ]
  },
  {
   "cell_type": "code",
   "execution_count": 10,
   "id": "de2b6a05-4aa2-4420-90ff-fe8e6b4e81ce",
   "metadata": {},
   "outputs": [
    {
     "data": {
      "text/plain": [
       "array([ 3,  5,  7,  9, 11])"
      ]
     },
     "execution_count": 10,
     "metadata": {},
     "output_type": "execute_result"
    }
   ],
   "source": [
    "array2 + array"
   ]
  },
  {
   "cell_type": "code",
   "execution_count": 11,
   "id": "2e7326cd-de89-4fab-9b1d-ed223f1c8100",
   "metadata": {},
   "outputs": [
    {
     "data": {
      "text/plain": [
       "array([ 2,  6, 12, 20, 30])"
      ]
     },
     "execution_count": 11,
     "metadata": {},
     "output_type": "execute_result"
    }
   ],
   "source": [
    "array2 * array"
   ]
  },
  {
   "cell_type": "code",
   "execution_count": 12,
   "id": "f296264a-3601-4713-96ed-78d0903bf6a0",
   "metadata": {},
   "outputs": [
    {
     "data": {
      "text/plain": [
       "(5,)"
      ]
     },
     "execution_count": 12,
     "metadata": {},
     "output_type": "execute_result"
    }
   ],
   "source": [
    "array.shape"
   ]
  },
  {
   "cell_type": "code",
   "execution_count": 13,
   "id": "eaa35c07-eace-4c11-9354-34b8f25fccfb",
   "metadata": {},
   "outputs": [
    {
     "ename": "AttributeError",
     "evalue": "'list' object has no attribute 'shape'",
     "output_type": "error",
     "traceback": [
      "\u001b[1;31m---------------------------------------------------------------------------\u001b[0m",
      "\u001b[1;31mAttributeError\u001b[0m                            Traceback (most recent call last)",
      "Cell \u001b[1;32mIn[13], line 2\u001b[0m\n\u001b[0;32m      1\u001b[0m tang_list \u001b[38;5;241m=\u001b[39m [\u001b[38;5;241m1\u001b[39m,\u001b[38;5;241m2\u001b[39m,\u001b[38;5;241m3\u001b[39m,\u001b[38;5;241m4\u001b[39m,\u001b[38;5;241m5\u001b[39m]\n\u001b[1;32m----> 2\u001b[0m tang_list\u001b[38;5;241m.\u001b[39mshape\n",
      "\u001b[1;31mAttributeError\u001b[0m: 'list' object has no attribute 'shape'"
     ]
    }
   ],
   "source": [
    "# Lists in Python do not have the 'shape' attribute because they are not NumPy arrays.\n",
    "# This will raise an AttributeError since 'shape' is only available for NumPy arrays.\n",
    "tang_list = [1, 2, 3, 4, 5]\n",
    "tang_list.shape  # This will result in an AttributeError."
   ]
  },
  {
   "cell_type": "code",
   "execution_count": 15,
   "id": "cd8e41cb-2841-4f36-8fb4-de1101039e8e",
   "metadata": {},
   "outputs": [
    {
     "data": {
      "text/plain": [
       "array([[1, 2, 3],\n",
       "       [4, 5, 6]])"
      ]
     },
     "execution_count": 15,
     "metadata": {},
     "output_type": "execute_result"
    }
   ],
   "source": [
    "# Creating a 2D NumPy array (matrix) with two rows and three columns.\n",
    "# The inner lists [1,2,3] and [4,5,6] represent the rows of the array.\n",
    "np.array([[1, 2, 3], [4, 5, 6]])"
   ]
  },
  {
   "cell_type": "code",
   "execution_count": 17,
   "id": "b1be998c-5e97-415b-ac4b-e5058ce4480b",
   "metadata": {},
   "outputs": [
    {
     "data": {
      "text/plain": [
       "array([1, 2, 3, 4, 5])"
      ]
     },
     "execution_count": 17,
     "metadata": {},
     "output_type": "execute_result"
    }
   ],
   "source": [
    "tang_list = [1,2,3,4,5]\n",
    "tang_array = np.array(tang_list)\n",
    "tang_array"
   ]
  },
  {
   "cell_type": "code",
   "execution_count": 18,
   "id": "8a3c2c53-a802-46c7-983a-d449957c99ec",
   "metadata": {},
   "outputs": [
    {
     "data": {
      "text/plain": [
       "array(['1', '2', '3', '4', '5'], dtype='<U11')"
      ]
     },
     "execution_count": 18,
     "metadata": {},
     "output_type": "execute_result"
    }
   ],
   "source": [
    "# Creating a list with mixed types: integers and a string '5'.\n",
    "tang_list = [1, 2, 3, 4, '5']\n",
    "\n",
    "# Converting the list into a NumPy array.\n",
    "# Since NumPy arrays must have uniform data types, the elements will all be converted to strings.\n",
    "tang_array = np.array(tang_list)\n",
    "\n",
    "# Displaying the resulting array.\n",
    "tang_array"
   ]
  },
  {
   "cell_type": "code",
   "execution_count": 164,
   "id": "4268f5d0-2eb7-4cb2-aa00-7898ce0c8844",
   "metadata": {},
   "outputs": [],
   "source": [
    "# Creating a list with integers and a float 5.0.\n",
    "tang_list = [1, 2, 3, 4, 5.0]\n",
    "\n",
    "# Converting the list into a NumPy array.\n",
    "# Since NumPy arrays require uniform data types, all integers will be cast to floats.\n",
    "tang_array = np.array(tang_list)"
   ]
  },
  {
   "cell_type": "code",
   "execution_count": 165,
   "id": "4ab09d67-da9c-435e-9e6e-0790f743f211",
   "metadata": {},
   "outputs": [
    {
     "data": {
      "text/plain": [
       "5"
      ]
     },
     "execution_count": 165,
     "metadata": {},
     "output_type": "execute_result"
    }
   ],
   "source": [
    "# 'tang_array.size' returns the total number of elements in the array.\n",
    "# For example, if the array is 1D with 5 elements, 'size' will return 5.\n",
    "tang_array.size"
   ]
  },
  {
   "cell_type": "code",
   "execution_count": 166,
   "id": "8c7f2998-e99c-4524-9aea-bbfea7215f26",
   "metadata": {},
   "outputs": [
    {
     "data": {
      "text/plain": [
       "1"
      ]
     },
     "execution_count": 166,
     "metadata": {},
     "output_type": "execute_result"
    }
   ],
   "source": [
    "# 'tang_array.ndim' returns the number of dimensions of the array.\n",
    "# A 1D array will return 1, a 2D array (like a matrix) will return 2, and so on.\n",
    "tang_array.ndim"
   ]
  },
  {
   "cell_type": "code",
   "execution_count": 24,
   "id": "acb9cf94-9a46-4ee3-843a-7bb3e61316cb",
   "metadata": {},
   "outputs": [
    {
     "data": {
      "text/plain": [
       "array([2., 3.])"
      ]
     },
     "execution_count": 24,
     "metadata": {},
     "output_type": "execute_result"
    }
   ],
   "source": [
    "tang_array[1:3]"
   ]
  },
  {
   "cell_type": "code",
   "execution_count": 25,
   "id": "553bf068-95f1-4d28-9666-32c069190008",
   "metadata": {},
   "outputs": [
    {
     "data": {
      "text/plain": [
       "array([4., 5.])"
      ]
     },
     "execution_count": 25,
     "metadata": {},
     "output_type": "execute_result"
    }
   ],
   "source": [
    "tang_array[-2:]"
   ]
  },
  {
   "cell_type": "code",
   "execution_count": 27,
   "id": "01e2bd43-6721-4527-a30c-1f8793b1a5dd",
   "metadata": {},
   "outputs": [
    {
     "data": {
      "text/plain": [
       "array([[ 1,  2,  3],\n",
       "       [ 4, 10,  6],\n",
       "       [ 7,  8,  9]])"
      ]
     },
     "execution_count": 27,
     "metadata": {},
     "output_type": "execute_result"
    }
   ],
   "source": [
    "# Creating a 2D NumPy array (matrix) with three rows and three columns.\n",
    "# The array contains three rows: [1, 2, 3], [4, 5, 6], and [7, 8, 9].\n",
    "tang_array = np.array([[1, 2, 3], [4, 5, 6], [7, 8, 9]])\n",
    "\n",
    "# Modifying the element at row index 1 and column index 1 (the value '5') and changing it to 10.\n",
    "tang_array[1, 1] = 10\n",
    "\n",
    "tang_array"
   ]
  },
  {
   "cell_type": "code",
   "execution_count": 29,
   "id": "d4a0a62d-2a64-4dc0-9345-fc53cc55ffe8",
   "metadata": {},
   "outputs": [
    {
     "data": {
      "text/plain": [
       "array([ 4, 10,  6])"
      ]
     },
     "execution_count": 29,
     "metadata": {},
     "output_type": "execute_result"
    }
   ],
   "source": [
    "# Accessing and displaying the entire second row of the array.\n",
    "# In this case, 'tang_array[1]' returns the second row: [4, 10, 6].\n",
    "tang_array[1]"
   ]
  },
  {
   "cell_type": "code",
   "execution_count": 30,
   "id": "01fc6e19-5666-42f6-a487-7a695bffe844",
   "metadata": {},
   "outputs": [
    {
     "data": {
      "text/plain": [
       "array([ 2, 10,  8])"
      ]
     },
     "execution_count": 30,
     "metadata": {},
     "output_type": "execute_result"
    }
   ],
   "source": [
    "# Accessing and displaying the entire second column of the array (index 1).\n",
    "# The syntax 'tang_array[:, 1]' uses the colon ':' to select all rows and '1' to select the second column.\n",
    "tang_array[:, 1]"
   ]
  },
  {
   "cell_type": "code",
   "execution_count": 32,
   "id": "86367a39-0dad-44f2-b6d8-36a0ef02e726",
   "metadata": {},
   "outputs": [
    {
     "data": {
      "text/plain": [
       "array([ 0, 10, 20, 30, 40, 50, 60, 70, 80, 90])"
      ]
     },
     "execution_count": 32,
     "metadata": {},
     "output_type": "execute_result"
    }
   ],
   "source": [
    "# Creating a 1D NumPy array with values ranging from 0 to 100, with a step of 10.\n",
    "# 'np.arange(0, 100, 10)' generates values starting from 0, ending before 100, with a step size of 10.\n",
    "tang_array = np.arange(0, 100, 10)\n",
    "\n",
    "# Displaying the array: it will contain [0, 10, 20, 30, 40, 50, 60, 70, 80, 90].\n",
    "tang_array"
   ]
  },
  {
   "cell_type": "code",
   "execution_count": 34,
   "id": "fbc4b902-45cd-4f31-859c-bf77a0910351",
   "metadata": {},
   "outputs": [
    {
     "data": {
      "text/plain": [
       "array([False, False, False,  True,  True,  True, False, False,  True,\n",
       "        True])"
      ]
     },
     "execution_count": 34,
     "metadata": {},
     "output_type": "execute_result"
    }
   ],
   "source": [
    "# Creating a boolean mask using an array of 0's and 1's.\n",
    "# 0's will be interpreted as False, and 1's will be interpreted as True.\n",
    "# This mask allows selecting specific elements from 'tang_array'.\n",
    "mask = np.array([0, 0, 0, 1, 1, 1, 0, 0, 1, 1], dtype=bool)\n",
    "\n",
    "mask"
   ]
  },
  {
   "cell_type": "code",
   "execution_count": 35,
   "id": "507462dd-9107-4e2f-ac99-e6369d3404af",
   "metadata": {},
   "outputs": [
    {
     "data": {
      "text/plain": [
       "array([30, 40, 50, 80, 90])"
      ]
     },
     "execution_count": 35,
     "metadata": {},
     "output_type": "execute_result"
    }
   ],
   "source": [
    "# Using the mask to select elements where the mask is True.\n",
    "# This will return the elements from 'tang_array' where the mask has True values.\n",
    "tang_array[mask]"
   ]
  },
  {
   "cell_type": "code",
   "execution_count": 37,
   "id": "c3e0d81c-ed3a-43f2-8ed0-0ebd7127baef",
   "metadata": {},
   "outputs": [
    {
     "data": {
      "text/plain": [
       "array([0.82267662, 0.19156392, 0.3952473 , 0.81042629, 0.51338277,\n",
       "       0.37494213, 0.52019718, 0.69867526, 0.50075107, 0.4363915 ])"
      ]
     },
     "execution_count": 37,
     "metadata": {},
     "output_type": "execute_result"
    }
   ],
   "source": [
    "# Creating a random array of 10 values between 0 and 1 using 'np.random.rand'.\n",
    "# The array contains random values uniformly distributed between 0 and 1.\n",
    "random_array = np.random.rand(10)\n",
    "random_array"
   ]
  },
  {
   "cell_type": "code",
   "execution_count": 38,
   "id": "3b6197fa-ca5b-4af4-ba5d-973df6cfaedb",
   "metadata": {},
   "outputs": [
    {
     "data": {
      "text/plain": [
       "array([ True, False, False,  True,  True, False,  True,  True,  True,\n",
       "       False])"
      ]
     },
     "execution_count": 38,
     "metadata": {},
     "output_type": "execute_result"
    }
   ],
   "source": [
    "# Creating a boolean mask where the condition 'random_array > 0.5' is True.\n",
    "# This mask will be True for values greater than 0.5, and False otherwise.\n",
    "mask = random_array > 0.5\n",
    "mask"
   ]
  },
  {
   "cell_type": "code",
   "execution_count": 39,
   "id": "f5476e3b-c125-4187-97e6-7b8dec053158",
   "metadata": {},
   "outputs": [
    {
     "data": {
      "text/plain": [
       "(array([3, 4], dtype=int64),)"
      ]
     },
     "execution_count": 39,
     "metadata": {},
     "output_type": "execute_result"
    }
   ],
   "source": [
    "# Creating a new 1D array with values [10, 20, 30, 40, 50].\n",
    "tang_array = np.array([10, 20, 30, 40, 50])\n",
    "\n",
    "# 'np.where' returns the indices of elements in 'tang_array' that satisfy the condition.\n",
    "# In this case, it returns the indices of elements greater than 30.\n",
    "np.where(tang_array > 30)"
   ]
  },
  {
   "cell_type": "code",
   "execution_count": 40,
   "id": "7b51876d-d0f0-472e-9421-3a6977d244b2",
   "metadata": {},
   "outputs": [
    {
     "data": {
      "text/plain": [
       "array([40, 50])"
      ]
     },
     "execution_count": 40,
     "metadata": {},
     "output_type": "execute_result"
    }
   ],
   "source": [
    "# Using 'np.where' to directly select elements from 'tang_array' that are greater than 30.\n",
    "# This returns the values themselves rather than their indices.\n",
    "tang_array[np.where(tang_array > 30)]"
   ]
  },
  {
   "cell_type": "code",
   "execution_count": 41,
   "id": "ee888f86-a1e4-43bf-ad20-0b08c6f3ec6f",
   "metadata": {},
   "outputs": [
    {
     "data": {
      "text/plain": [
       "array([ True,  True,  True, False])"
      ]
     },
     "execution_count": 41,
     "metadata": {},
     "output_type": "execute_result"
    }
   ],
   "source": [
    "# Creating two NumPy arrays 'x' and 'y'.\n",
    "y = np.array([1, 1, 1, 4])\n",
    "x = np.array([1, 1, 1, 2])\n",
    "\n",
    "# Performing an element-wise comparison between 'x' and 'y'.\n",
    "# This returns a boolean array where 'True' means the elements at the same position in 'x' and 'y' are equal, and 'False' otherwise.\n",
    "x == y"
   ]
  },
  {
   "cell_type": "code",
   "execution_count": 42,
   "id": "b000099a-d3b6-4972-b2f3-89d0eaec24c3",
   "metadata": {},
   "outputs": [
    {
     "data": {
      "text/plain": [
       "array([ True,  True,  True,  True])"
      ]
     },
     "execution_count": 42,
     "metadata": {},
     "output_type": "execute_result"
    }
   ],
   "source": [
    "# Performing an element-wise logical AND between 'x' and 'y'.\n",
    "# 'np.logical_and' returns True where both 'x' and 'y' have non-zero values at the same position.\n",
    "np.logical_and(x, y)"
   ]
  },
  {
   "cell_type": "code",
   "execution_count": 43,
   "id": "048a99ef-e1a8-4dd4-9bbf-bb2479d23d2a",
   "metadata": {},
   "outputs": [
    {
     "data": {
      "text/plain": [
       "array([ True,  True,  True,  True])"
      ]
     },
     "execution_count": 43,
     "metadata": {},
     "output_type": "execute_result"
    }
   ],
   "source": [
    "# Performing an element-wise logical OR between 'x' and 'y'.\n",
    "# 'np.logical_or' returns True if at least one of the values in 'x' or 'y' at the same index is non-zero.\n",
    "np.logical_or(x, y)"
   ]
  },
  {
   "cell_type": "code",
   "execution_count": 45,
   "id": "e9d3fb26-2f0d-4941-9e3b-b39d07a817b6",
   "metadata": {},
   "outputs": [
    {
     "data": {
      "text/plain": [
       "array([1., 2., 3., 4., 5.], dtype=float32)"
      ]
     },
     "execution_count": 45,
     "metadata": {},
     "output_type": "execute_result"
    }
   ],
   "source": [
    "# Creating a NumPy array with floating-point numbers and explicitly specifying the data type as float32.\n",
    "tang_array = np.array([1, 2, 3, 4, 5], dtype=np.float32)\n",
    "tang_array"
   ]
  },
  {
   "cell_type": "code",
   "execution_count": 46,
   "id": "3622eabb-2781-40c1-968b-531868cc8340",
   "metadata": {},
   "outputs": [
    {
     "data": {
      "text/plain": [
       "dtype('float32')"
      ]
     },
     "execution_count": 46,
     "metadata": {},
     "output_type": "execute_result"
    }
   ],
   "source": [
    "# Checking the data type of the array.\n",
    "tang_array.dtype"
   ]
  },
  {
   "cell_type": "code",
   "execution_count": 48,
   "id": "2b6b50cc-4982-45c2-bfaf-4050ae22e452",
   "metadata": {},
   "outputs": [
    {
     "data": {
      "text/plain": [
       "array(['1', '10', '3.5', 'str'], dtype=object)"
      ]
     },
     "execution_count": 48,
     "metadata": {},
     "output_type": "execute_result"
    }
   ],
   "source": [
    "# Creating a NumPy array with mixed data types (strings and numbers) and specifying the data type as object.\n",
    "tang_array = np.array(['1', '10', '3.5', 'str'], dtype=object)\n",
    "\n",
    "tang_array"
   ]
  },
  {
   "cell_type": "code",
   "execution_count": 50,
   "id": "894605b6-ab37-4685-ae56-b453aac38b17",
   "metadata": {},
   "outputs": [
    {
     "data": {
      "text/plain": [
       "array([1., 2., 3., 4., 5.], dtype=float32)"
      ]
     },
     "execution_count": 50,
     "metadata": {},
     "output_type": "execute_result"
    }
   ],
   "source": [
    "# Creating a NumPy array with integers.\n",
    "tang_array = np.array([1, 2, 3, 4, 5])\n",
    "\n",
    "# Creating a new array by converting 'tang_array' to float32 using 'np.asarray'.\n",
    "tang_array2 = np.asarray(tang_array, dtype=np.float32)\n",
    "\n",
    "tang_array2"
   ]
  },
  {
   "cell_type": "code",
   "execution_count": 54,
   "id": "2583baf1-e168-4f1a-aac4-d2c9a110a365",
   "metadata": {},
   "outputs": [
    {
     "data": {
      "text/plain": [
       "array([[1, 2, 3],\n",
       "       [4, 5, 6],\n",
       "       [7, 8, 9]])"
      ]
     },
     "execution_count": 54,
     "metadata": {},
     "output_type": "execute_result"
    }
   ],
   "source": [
    "# Creating a 2D array (matrix).\n",
    "tang_array = np.array([[1, 2, 3], [4, 5, 6], [7, 8, 9]])\n",
    "\n",
    "# Assigning 'tang_array' to 'tang_array2'. Both arrays now point to the same memory location.\n",
    "tang_array2 = tang_array\n",
    "\n",
    "tang_array2"
   ]
  },
  {
   "cell_type": "code",
   "execution_count": 64,
   "id": "760934ea-0a67-4a80-836c-9c26dadc4982",
   "metadata": {},
   "outputs": [
    {
     "name": "stdout",
     "output_type": "stream",
     "text": [
      "[[  1   2   3]\n",
      " [  4 100   6]\n",
      " [  7   8   9]] \n",
      "\n",
      "[[  1   2   3]\n",
      " [  4 100   6]\n",
      " [  7   8   9]]\n"
     ]
    }
   ],
   "source": [
    "# Modifying an element in 'tang_array2'. Since both arrays point to the same data, 'tang_array' will also reflect this change.\n",
    "tang_array2[1, 1] = 100\n",
    "\n",
    "print(tang_array2,'\\n')\n",
    "print(tang_array)"
   ]
  },
  {
   "cell_type": "code",
   "execution_count": 65,
   "id": "0aeec401-6fe1-4b66-9363-50e79e67a5ce",
   "metadata": {},
   "outputs": [
    {
     "name": "stdout",
     "output_type": "stream",
     "text": [
      "[[    1     2     3]\n",
      " [    4 10000     6]\n",
      " [    7     8     9]] \n",
      "\n",
      "[[  1   2   3]\n",
      " [  4 100   6]\n",
      " [  7   8   9]]\n"
     ]
    }
   ],
   "source": [
    "# Creating a deep copy of 'tang_array' using 'copy()'.\n",
    "# This creates a new array in a different memory location, so changes to 'tang_array2' will not affect 'tang_array'.\n",
    "tang_array2 = tang_array.copy()\n",
    "\n",
    "# Modifying an element in 'tang_array2'. This will not affect the original 'tang_array'.\n",
    "tang_array2[1, 1] = 10000\n",
    "\n",
    "print(tang_array2,'\\n')\n",
    "print(tang_array)"
   ]
  },
  {
   "cell_type": "code",
   "execution_count": 66,
   "id": "ab4b2a86-d77d-40cf-b458-51b842e5710a",
   "metadata": {},
   "outputs": [
    {
     "data": {
      "text/plain": [
       "10040"
      ]
     },
     "execution_count": 66,
     "metadata": {},
     "output_type": "execute_result"
    }
   ],
   "source": [
    "# Calculating the sum of all elements in 'tang_array2'.\n",
    "np.sum(tang_array2)"
   ]
  },
  {
   "cell_type": "code",
   "execution_count": 69,
   "id": "01475ff1-39b1-4b41-9455-ad45e8d0b6a6",
   "metadata": {},
   "outputs": [
    {
     "data": {
      "text/plain": [
       "array([ 12, 110,  18])"
      ]
     },
     "execution_count": 69,
     "metadata": {},
     "output_type": "execute_result"
    }
   ],
   "source": [
    "# Summing the elements of 'tang_array' along the columns (axis 0).\n",
    "np.sum(tang_array, axis=0)"
   ]
  },
  {
   "cell_type": "code",
   "execution_count": 70,
   "id": "5987cd21-8ef5-46eb-8f94-ea8363616de5",
   "metadata": {},
   "outputs": [
    {
     "data": {
      "text/plain": [
       "array([  6, 110,  24])"
      ]
     },
     "execution_count": 70,
     "metadata": {},
     "output_type": "execute_result"
    }
   ],
   "source": [
    "# Summing the elements of 'tang_array' along the rows (axis 1).\n",
    "np.sum(tang_array, axis=1)"
   ]
  },
  {
   "cell_type": "code",
   "execution_count": 71,
   "id": "3be9840a-47af-4b66-8788-ab2bd1a7c105",
   "metadata": {},
   "outputs": [
    {
     "data": {
      "text/plain": [
       "7257600"
      ]
     },
     "execution_count": 71,
     "metadata": {},
     "output_type": "execute_result"
    }
   ],
   "source": [
    "# Calculating the product of all elements in 'tang_array'.\n",
    "tang_array.prod()"
   ]
  },
  {
   "cell_type": "code",
   "execution_count": 72,
   "id": "ed53a128-e180-4a24-b2b1-df3fb5262b0c",
   "metadata": {},
   "outputs": [
    {
     "data": {
      "text/plain": [
       "array([  28, 1600,  162])"
      ]
     },
     "execution_count": 72,
     "metadata": {},
     "output_type": "execute_result"
    }
   ],
   "source": [
    "# Calculating the product of elements along the columns (axis 0).\n",
    "tang_array.prod(axis=0)"
   ]
  },
  {
   "cell_type": "code",
   "execution_count": 73,
   "id": "3e1c85d7-0515-428a-aefc-644de0bfe51c",
   "metadata": {},
   "outputs": [
    {
     "data": {
      "text/plain": [
       "array([   6, 2400,  504])"
      ]
     },
     "execution_count": 73,
     "metadata": {},
     "output_type": "execute_result"
    }
   ],
   "source": [
    "# Calculating the product of elements along the rows (axis 1).\n",
    "tang_array.prod(axis=1)"
   ]
  },
  {
   "cell_type": "code",
   "execution_count": 75,
   "id": "63f467c0-0345-4f7f-83e1-1e284159c942",
   "metadata": {},
   "outputs": [
    {
     "data": {
      "text/plain": [
       "1"
      ]
     },
     "execution_count": 75,
     "metadata": {},
     "output_type": "execute_result"
    }
   ],
   "source": [
    "# Finding the minimum value in the entire array.\n",
    "tang_array.min()"
   ]
  },
  {
   "cell_type": "code",
   "execution_count": 76,
   "id": "e68f3c69-ab5a-4b2b-a822-8b6753a6a6fe",
   "metadata": {},
   "outputs": [
    {
     "data": {
      "text/plain": [
       "array([1, 2, 3])"
      ]
     },
     "execution_count": 76,
     "metadata": {},
     "output_type": "execute_result"
    }
   ],
   "source": [
    "# Finding the minimum value along the columns (axis 0).\n",
    "tang_array.min(axis=0)"
   ]
  },
  {
   "cell_type": "code",
   "execution_count": 77,
   "id": "dd015354-a7f0-430d-afc0-31db11950105",
   "metadata": {},
   "outputs": [
    {
     "data": {
      "text/plain": [
       "array([1, 4, 7])"
      ]
     },
     "execution_count": 77,
     "metadata": {},
     "output_type": "execute_result"
    }
   ],
   "source": [
    "tang_array.min(axis = 1)"
   ]
  },
  {
   "cell_type": "code",
   "execution_count": 78,
   "id": "d6b1cf84-684c-4608-aa88-f8bf5935192a",
   "metadata": {},
   "outputs": [
    {
     "data": {
      "text/plain": [
       "15.555555555555555"
      ]
     },
     "execution_count": 78,
     "metadata": {},
     "output_type": "execute_result"
    }
   ],
   "source": [
    "# Calculating the mean (average) of all elements in 'tang_array'.\n",
    "tang_array.mean()"
   ]
  },
  {
   "cell_type": "code",
   "execution_count": 79,
   "id": "54fe805d-aa48-4ddc-b1a0-d51789dd7a08",
   "metadata": {},
   "outputs": [
    {
     "data": {
      "text/plain": [
       "array([ 2.        , 36.66666667,  8.        ])"
      ]
     },
     "execution_count": 79,
     "metadata": {},
     "output_type": "execute_result"
    }
   ],
   "source": [
    "# Calculating the mean of elements along the rows (axis=1).\n",
    "# This returns the average value for each row.\n",
    "tang_array.mean(axis=1)"
   ]
  },
  {
   "cell_type": "code",
   "execution_count": 80,
   "id": "eb7b667f-a719-4dd6-9c65-9fc34353b660",
   "metadata": {},
   "outputs": [
    {
     "data": {
      "text/plain": [
       "29.96706010535609"
      ]
     },
     "execution_count": 80,
     "metadata": {},
     "output_type": "execute_result"
    }
   ],
   "source": [
    "# Calculating the standard deviation of all elements in 'tang_array'.\n",
    "tang_array.std()"
   ]
  },
  {
   "cell_type": "code",
   "execution_count": 81,
   "id": "e3f4c1a7-b073-4f5f-afba-e55cea7cdc2d",
   "metadata": {},
   "outputs": [
    {
     "data": {
      "text/plain": [
       "array([ 0.81649658, 44.79087209,  0.81649658])"
      ]
     },
     "execution_count": 81,
     "metadata": {},
     "output_type": "execute_result"
    }
   ],
   "source": [
    "# Calculating the standard deviation along the rows (axis=1).\n",
    "# This returns the standard deviation for each row.\n",
    "tang_array.std(axis=1)"
   ]
  },
  {
   "cell_type": "code",
   "execution_count": 82,
   "id": "fff72461-3638-4f64-85f0-47afa36294ee",
   "metadata": {},
   "outputs": [
    {
     "data": {
      "text/plain": [
       "898.0246913580246"
      ]
     },
     "execution_count": 82,
     "metadata": {},
     "output_type": "execute_result"
    }
   ],
   "source": [
    "# Calculating the variance of all elements in 'tang_array'.\n",
    "tang_array.var()"
   ]
  },
  {
   "cell_type": "code",
   "execution_count": 83,
   "id": "82077aab-40c8-449b-aa05-205795f8762b",
   "metadata": {},
   "outputs": [
    {
     "data": {
      "text/plain": [
       "array([[2, 2, 3],\n",
       "       [4, 4, 4],\n",
       "       [4, 4, 4]])"
      ]
     },
     "execution_count": 83,
     "metadata": {},
     "output_type": "execute_result"
    }
   ],
   "source": [
    "# Clipping the values in 'tang_array' to the range [2, 4].\n",
    "# Any values less than 2 will be set to 2, and any values greater than 4 will be set to 4.\n",
    "tang_array.clip(2, 4)"
   ]
  },
  {
   "cell_type": "code",
   "execution_count": 88,
   "id": "b29bf175-7fd8-4b7b-bea3-66cdd63bed95",
   "metadata": {},
   "outputs": [
    {
     "data": {
      "text/plain": [
       "array([1., 2., 3., 5., 6., 7., 8., 9.])"
      ]
     },
     "execution_count": 88,
     "metadata": {},
     "output_type": "execute_result"
    }
   ],
   "source": [
    "# Creating a NumPy array with floating-point values.\n",
    "q_array = np.array([1.23, 2.35, 3.46, 4.57, 5.62, 6.73, 7.81, 8.92])\n",
    "\n",
    "# Rounding all elements in 'q_array' to the nearest integer.\n",
    "q_array.round()"
   ]
  },
  {
   "cell_type": "code",
   "execution_count": 89,
   "id": "cb304188-5963-48e7-818e-2a7c9e91377e",
   "metadata": {},
   "outputs": [
    {
     "data": {
      "text/plain": [
       "array([1.2, 2.4, 3.5, 4.6, 5.6, 6.7, 7.8, 8.9])"
      ]
     },
     "execution_count": 89,
     "metadata": {},
     "output_type": "execute_result"
    }
   ],
   "source": [
    "# Rounding all elements in 'q_array' to one decimal place.\n",
    "q_array.round(decimals=1)"
   ]
  },
  {
   "cell_type": "code",
   "execution_count": 90,
   "id": "c81074bb-1e74-4ea0-b314-cbf34d8d405b",
   "metadata": {},
   "outputs": [
    {
     "data": {
      "text/plain": [
       "0"
      ]
     },
     "execution_count": 90,
     "metadata": {},
     "output_type": "execute_result"
    }
   ],
   "source": [
    "# Finding the index of the minimum element in 'q_array'.\n",
    "q_array.argmin()"
   ]
  },
  {
   "cell_type": "code",
   "execution_count": 92,
   "id": "e740050f-709e-402b-8a68-65c2e7efd5e4",
   "metadata": {},
   "outputs": [
    {
     "data": {
      "text/plain": [
       "array([0, 0, 0], dtype=int64)"
      ]
     },
     "execution_count": 92,
     "metadata": {},
     "output_type": "execute_result"
    }
   ],
   "source": [
    "# Finding the index of the minimum element along each column (axis=0) in 'tang_array2'.\n",
    "tang_array2.argmin(axis=0)"
   ]
  },
  {
   "cell_type": "code",
   "execution_count": 93,
   "id": "76c04c8a-eeef-4148-8724-48dbaa01c73c",
   "metadata": {},
   "outputs": [
    {
     "data": {
      "text/plain": [
       "array([0, 0, 0], dtype=int64)"
      ]
     },
     "execution_count": 93,
     "metadata": {},
     "output_type": "execute_result"
    }
   ],
   "source": [
    "# Finding the index of the minimum element along each row (axis=1) in 'tang_array2'.\n",
    "tang_array2.argmin(axis=1)"
   ]
  },
  {
   "cell_type": "code",
   "execution_count": 94,
   "id": "da9cc365-c3ba-431a-b910-7dbc77f6fb2e",
   "metadata": {},
   "outputs": [
    {
     "data": {
      "text/plain": [
       "array([10, 10])"
      ]
     },
     "execution_count": 94,
     "metadata": {},
     "output_type": "execute_result"
    }
   ],
   "source": [
    "# Creating two NumPy arrays 'x' and 'y'.\n",
    "x = np.array([5, 5])\n",
    "y = np.array([2, 2])\n",
    "\n",
    "# Performing element-wise multiplication of 'x' and 'y'.\n",
    "np.multiply(x, y)"
   ]
  },
  {
   "cell_type": "code",
   "execution_count": 95,
   "id": "779785a6-c6b7-4931-8218-a4fc80c24a82",
   "metadata": {},
   "outputs": [
    {
     "data": {
      "text/plain": [
       "20"
      ]
     },
     "execution_count": 95,
     "metadata": {},
     "output_type": "execute_result"
    }
   ],
   "source": [
    "# Performing the dot product of 'x' and 'y'.\n",
    "np.dot(x, y)\n"
   ]
  },
  {
   "cell_type": "code",
   "execution_count": 97,
   "id": "c4e1649c-54cd-4d9d-821e-9354215f9d6a",
   "metadata": {},
   "outputs": [
    {
     "data": {
      "text/plain": [
       "array([[5],\n",
       "       [5]])"
      ]
     },
     "execution_count": 97,
     "metadata": {},
     "output_type": "execute_result"
    }
   ],
   "source": [
    "# Reshaping 'x' to a 2x1 column vector.\n",
    "x.shape = 2, 1\n",
    "x"
   ]
  },
  {
   "cell_type": "code",
   "execution_count": 98,
   "id": "24ff424a-9a3d-4547-a93b-d756bbd5e65b",
   "metadata": {},
   "outputs": [
    {
     "ename": "ValueError",
     "evalue": "shapes (2,1) and (2,) not aligned: 1 (dim 1) != 2 (dim 0)",
     "output_type": "error",
     "traceback": [
      "\u001b[1;31m---------------------------------------------------------------------------\u001b[0m",
      "\u001b[1;31mValueError\u001b[0m                                Traceback (most recent call last)",
      "Cell \u001b[1;32mIn[98], line 1\u001b[0m\n\u001b[1;32m----> 1\u001b[0m np\u001b[38;5;241m.\u001b[39mdot(x, y)\n",
      "\u001b[1;31mValueError\u001b[0m: shapes (2,1) and (2,) not aligned: 1 (dim 1) != 2 (dim 0)"
     ]
    }
   ],
   "source": [
    "# Performing the dot product between the reshaped 'x' and 'y'.\n",
    "np.dot(x, y)"
   ]
  },
  {
   "cell_type": "code",
   "execution_count": 100,
   "id": "f62107a1-5bd6-4425-8fb1-1b40e734130f",
   "metadata": {},
   "outputs": [
    {
     "data": {
      "text/plain": [
       "array([[2, 2]])"
      ]
     },
     "execution_count": 100,
     "metadata": {},
     "output_type": "execute_result"
    }
   ],
   "source": [
    "# Reshaping 'y' to a 1x2 row vector.\n",
    "y.shape = 1, 2\n",
    "y"
   ]
  },
  {
   "cell_type": "code",
   "execution_count": 102,
   "id": "4adaec3c-4f73-443f-9741-5d372ace50e0",
   "metadata": {},
   "outputs": [
    {
     "data": {
      "text/plain": [
       "array([[ 1,  2,  3],\n",
       "       [ 4,  5,  6],\n",
       "       [ 7,  8,  9],\n",
       "       [10, 11, 12]])"
      ]
     },
     "execution_count": 102,
     "metadata": {},
     "output_type": "execute_result"
    }
   ],
   "source": [
    "# Creating two 2D arrays 'a' and 'b'.\n",
    "a = np.array([[1, 2, 3], [4, 5, 6]])\n",
    "b = np.array([[7, 8, 9], [10, 11, 12]])\n",
    "\n",
    "# Concatenating 'a' and 'b' along the default axis (axis=0, vertically).\n",
    "# This stacks 'b' below 'a', resulting in a larger 2D array.\n",
    "np.concatenate((a, b))"
   ]
  },
  {
   "cell_type": "code",
   "execution_count": 103,
   "id": "df9fb278-7ef4-47fb-93ae-953fd073ea84",
   "metadata": {},
   "outputs": [
    {
     "data": {
      "text/plain": [
       "array([[ 1,  2,  3,  7,  8,  9],\n",
       "       [ 4,  5,  6, 10, 11, 12]])"
      ]
     },
     "execution_count": 103,
     "metadata": {},
     "output_type": "execute_result"
    }
   ],
   "source": [
    "# Concatenating 'a' and 'b' along axis=1 (horizontally).\n",
    "# This stacks 'b' to the right of 'a', resulting in a wider 2D array.\n",
    "np.concatenate((a, b), axis=1)"
   ]
  },
  {
   "cell_type": "code",
   "execution_count": 104,
   "id": "9e6dfefd-d974-4013-a2fa-6f303f96461a",
   "metadata": {},
   "outputs": [
    {
     "data": {
      "text/plain": [
       "array([[1, 2, 3],\n",
       "       [2, 3, 4]])"
      ]
     },
     "execution_count": 104,
     "metadata": {},
     "output_type": "execute_result"
    }
   ],
   "source": [
    "# Stacking the 1D arrays 'd' and 'e' along a new axis using 'np.stack'.\n",
    "d = np.array([1, 2, 3])\n",
    "e = np.array([2, 3, 4])\n",
    "\n",
    "# np.stack((d, e)) stacks the 1D arrays d and e along a new axis, creating a 2D array. \n",
    "np.stack((d, e))"
   ]
  },
  {
   "cell_type": "code",
   "execution_count": 105,
   "id": "3126751f-47df-4c17-bfd3-a11c2c821599",
   "metadata": {},
   "outputs": [
    {
     "data": {
      "text/plain": [
       "array([[ 1,  2,  3,  7,  8,  9],\n",
       "       [ 4,  5,  6, 10, 11, 12]])"
      ]
     },
     "execution_count": 105,
     "metadata": {},
     "output_type": "execute_result"
    }
   ],
   "source": [
    "# Horizontally stacking 'a' and 'b' using 'np.hstack', which is equivalent to concatenation along axis=1.\n",
    "np.hstack((a, b))"
   ]
  },
  {
   "cell_type": "code",
   "execution_count": 106,
   "id": "574dc9a8-12c2-48d2-a5f6-3a8bae6cf145",
   "metadata": {},
   "outputs": [
    {
     "data": {
      "text/plain": [
       "array([[ 1,  2,  3],\n",
       "       [ 4,  5,  6],\n",
       "       [ 7,  8,  9],\n",
       "       [10, 11, 12]])"
      ]
     },
     "execution_count": 106,
     "metadata": {},
     "output_type": "execute_result"
    }
   ],
   "source": [
    "# Vertically stacking 'a' and 'b' using 'np.vstack', which is equivalent to concatenation along axis=0.\n",
    "np.vstack((a, b))"
   ]
  },
  {
   "cell_type": "code",
   "execution_count": 159,
   "id": "1bf227d6-1a5f-49f9-8584-1908357501ae",
   "metadata": {},
   "outputs": [
    {
     "data": {
      "text/plain": [
       "array([1, 2, 3, 4, 5, 6])"
      ]
     },
     "execution_count": 159,
     "metadata": {},
     "output_type": "execute_result"
    }
   ],
   "source": [
    "# Flattening the 2D array 'q_array' into a 1D array using 'flatten()'.\n",
    "q_array = np.array([[1, 2, 3], [4, 5, 6]])\n",
    "flattened_array = q_array.flatten()\n",
    "\n",
    "# Displaying the flattened array.\n",
    "flattened_array"
   ]
  },
  {
   "cell_type": "code",
   "execution_count": 113,
   "id": "ff1a95ee-22c4-4ba0-90dd-9bdd4251eb4e",
   "metadata": {},
   "outputs": [
    {
     "data": {
      "text/plain": [
       "array([ 2,  4,  6,  8, 10, 12, 14, 16, 18])"
      ]
     },
     "execution_count": 113,
     "metadata": {},
     "output_type": "execute_result"
    }
   ],
   "source": [
    "np.arange(2, 20, 2)"
   ]
  },
  {
   "cell_type": "code",
   "execution_count": 114,
   "id": "8f1d5a38-3037-4190-bb98-69e5a446bb3d",
   "metadata": {},
   "outputs": [
    {
     "data": {
      "text/plain": [
       "array([ 1.        ,  1.77827941,  3.16227766,  5.62341325, 10.        ])"
      ]
     },
     "execution_count": 114,
     "metadata": {},
     "output_type": "execute_result"
    }
   ],
   "source": [
    "# Creating an array of 5 values logarithmically spaced between 10^0 and 10^1.\n",
    "# np.logspace(0, 1, 5) generates 5 values spaced evenly on a logarithmic scale between 10^0 and 10^1\n",
    "\n",
    "np.logspace(0, 1, 5)"
   ]
  },
  {
   "cell_type": "code",
   "execution_count": 115,
   "id": "07321a88-2050-4a15-b82c-d192bbc91ab2",
   "metadata": {},
   "outputs": [
    {
     "data": {
      "text/plain": [
       "array([0, 1, 2, 3, 4])"
      ]
     },
     "execution_count": 115,
     "metadata": {},
     "output_type": "execute_result"
    }
   ],
   "source": [
    "# Creating a 1D array of integers from 0 to 4 using 'np.r_'.\n",
    "np.r_[0:5:1]"
   ]
  },
  {
   "cell_type": "code",
   "execution_count": 116,
   "id": "1fe65489-7443-4b7d-9bb7-ed3add300c2d",
   "metadata": {},
   "outputs": [
    {
     "data": {
      "text/plain": [
       "array([[0],\n",
       "       [1],\n",
       "       [2],\n",
       "       [3],\n",
       "       [4]])"
      ]
     },
     "execution_count": 116,
     "metadata": {},
     "output_type": "execute_result"
    }
   ],
   "source": [
    "# Creating a column array using the 'np.c_' function.\n",
    "# The slice '0:5:1' means \"start at 0, stop at 5, step by 1\".\n",
    "# This function concatenates the values into a column vector.\n",
    "# The result is a column array of values from 0 to 4.\n",
    "np.c_[0:5:1]"
   ]
  },
  {
   "cell_type": "code",
   "execution_count": 117,
   "id": "67625f76-a5a4-426d-a14a-16f61176c1eb",
   "metadata": {},
   "outputs": [
    {
     "data": {
      "text/plain": [
       "array([0., 0., 0.])"
      ]
     },
     "execution_count": 117,
     "metadata": {},
     "output_type": "execute_result"
    }
   ],
   "source": [
    "# Creating a one-dimensional array with 3 elements, all initialized to 0.\n",
    "# The 'zeros' function is useful for initializing arrays where you plan to update values later.\n",
    "np.zeros(3)"
   ]
  },
  {
   "cell_type": "code",
   "execution_count": 118,
   "id": "7ec062ed-4d00-4151-a0c2-28726f10b2a1",
   "metadata": {},
   "outputs": [
    {
     "data": {
      "text/plain": [
       "array([[0., 0., 0.],\n",
       "       [0., 0., 0.],\n",
       "       [0., 0., 0.]])"
      ]
     },
     "execution_count": 118,
     "metadata": {},
     "output_type": "execute_result"
    }
   ],
   "source": [
    "# Creating a 2D (3x3) array, where all elements are initialized to 0.\n",
    "# The argument (3, 3) specifies the shape of the array: 3 rows and 3 columns.\n",
    "# This is useful for initializing matrices for linear algebra or machine learning.\n",
    "np.zeros((3, 3))"
   ]
  },
  {
   "cell_type": "code",
   "execution_count": 119,
   "id": "95ccfcb5-f3e8-4f5e-9e26-4ce36ec26ff7",
   "metadata": {},
   "outputs": [
    {
     "data": {
      "text/plain": [
       "array([[1., 1., 1.],\n",
       "       [1., 1., 1.],\n",
       "       [1., 1., 1.]])"
      ]
     },
     "execution_count": 119,
     "metadata": {},
     "output_type": "execute_result"
    }
   ],
   "source": [
    "# Creating a 3x3 matrix filled with ones.\n",
    "# Similar to 'zeros', this function can initialize arrays, but all elements are set to 1.\n",
    "np.ones((3, 3))"
   ]
  },
  {
   "cell_type": "code",
   "execution_count": 121,
   "id": "d1e79f02-009d-43a7-a37c-3defb8964395",
   "metadata": {},
   "outputs": [
    {
     "data": {
      "text/plain": [
       "array([[8.1, 8.1, 8.1],\n",
       "       [8.1, 8.1, 8.1],\n",
       "       [8.1, 8.1, 8.1]])"
      ]
     },
     "execution_count": 121,
     "metadata": {},
     "output_type": "execute_result"
    }
   ],
   "source": [
    "# Multiplying a 3x3 matrix of ones by 8.1.\n",
    "# NumPy supports element-wise operations, so each element in the matrix is multiplied by 8.1.\n",
    "# This operation demonstrates scalar multiplication on arrays.\n",
    "np.ones((3, 3)) * 8.1"
   ]
  },
  {
   "cell_type": "code",
   "execution_count": 124,
   "id": "f0595fa8-ae64-4181-a70e-a67c4604ecf4",
   "metadata": {},
   "outputs": [
    {
     "data": {
      "text/plain": [
       "array([3., 3., 3., 3., 3., 3.])"
      ]
     },
     "execution_count": 124,
     "metadata": {},
     "output_type": "execute_result"
    }
   ],
   "source": [
    "# Creating an uninitialized array with 6 elements using 'np.empty'.\n",
    "# 'empty' allocates memory but does not initialize the elements (they may contain garbage values initially).\n",
    "# We then use 'fill(3)' to set each element to 3.\n",
    "a = np.empty(6)\n",
    "a.fill(3)  # Filling the array with the value 3.\n",
    "a  # Displaying the array."
   ]
  },
  {
   "cell_type": "code",
   "execution_count": 125,
   "id": "b88787a4-cb2c-4a6b-af72-fedc26976b94",
   "metadata": {},
   "outputs": [
    {
     "data": {
      "text/plain": [
       "array([0, 0, 0, 0])"
      ]
     },
     "execution_count": 125,
     "metadata": {},
     "output_type": "execute_result"
    }
   ],
   "source": [
    "# Creating a NumPy array of integers\n",
    "q_array = np.array([1, 2, 3, 4])\n",
    "\n",
    "# Creating an array with the same shape as q_array, but filled with zeros.\n",
    "# 'np.zeros_like' creates a new array of zeros with the same shape and data type as the given array.\n",
    "np.zeros_like(q_array)"
   ]
  },
  {
   "cell_type": "code",
   "execution_count": 126,
   "id": "7a14eb7e-12b3-4f1a-9b1f-ec6abc354520",
   "metadata": {},
   "outputs": [
    {
     "data": {
      "text/plain": [
       "array([[1., 0., 0., 0., 0.],\n",
       "       [0., 1., 0., 0., 0.],\n",
       "       [0., 0., 1., 0., 0.],\n",
       "       [0., 0., 0., 1., 0.],\n",
       "       [0., 0., 0., 0., 1.]])"
      ]
     },
     "execution_count": 126,
     "metadata": {},
     "output_type": "execute_result"
    }
   ],
   "source": [
    "# Creating a 5x5 identity matrix.\n",
    "# 'np.identity' returns an identity matrix, which is a square matrix with ones on the diagonal and zeros elsewhere.\n",
    "# Identity matrices are useful in linear algebra and matrix operations.\n",
    "np.identity(5)"
   ]
  },
  {
   "cell_type": "code",
   "execution_count": 127,
   "id": "baf87b1a-819a-47ba-aa9a-fe08a347c411",
   "metadata": {},
   "outputs": [
    {
     "data": {
      "text/plain": [
       "array([[0.49511113, 0.74382585],\n",
       "       [0.63435761, 0.71233853],\n",
       "       [0.37664926, 0.41651318]])"
      ]
     },
     "execution_count": 127,
     "metadata": {},
     "output_type": "execute_result"
    }
   ],
   "source": [
    "# Creating a 3x2 matrix with random values between 0 and 1.\n",
    "# 'np.random.rand' generates an array of the given shape, filled with random samples from a uniform distribution over [0, 1).\n",
    "np.random.rand(3, 2)"
   ]
  },
  {
   "cell_type": "code",
   "execution_count": 128,
   "id": "8c773ea7-9d54-44fb-ae6d-018b2a912b57",
   "metadata": {},
   "outputs": [
    {
     "data": {
      "text/plain": [
       "array([[9, 2, 3, 6],\n",
       "       [5, 4, 3, 1],\n",
       "       [4, 3, 9, 4],\n",
       "       [2, 1, 5, 5],\n",
       "       [1, 1, 2, 4]])"
      ]
     },
     "execution_count": 128,
     "metadata": {},
     "output_type": "execute_result"
    }
   ],
   "source": [
    "# np.random.randint(10, size=(5, 4)) generates a 5x4 array filled with random integers between 0 (inclusive) and 10 (exclusive).\n",
    "np.random.randint(10, size=(5, 4))"
   ]
  },
  {
   "cell_type": "code",
   "execution_count": 129,
   "id": "4c2e0822-3d80-418d-bd7c-27d152c971ee",
   "metadata": {},
   "outputs": [
    {
     "data": {
      "text/plain": [
       "0.1285439286455391"
      ]
     },
     "execution_count": 129,
     "metadata": {},
     "output_type": "execute_result"
    }
   ],
   "source": [
    "# Generating a random floating-point number between 0 and 1.\n",
    "np.random.rand()"
   ]
  },
  {
   "cell_type": "code",
   "execution_count": 130,
   "id": "7716183b-8671-4251-b038-a141522346a1",
   "metadata": {},
   "outputs": [
    {
     "data": {
      "text/plain": [
       "array([5, 3, 2])"
      ]
     },
     "execution_count": 130,
     "metadata": {},
     "output_type": "execute_result"
    }
   ],
   "source": [
    "np.random.randint(0, 10, 3)"
   ]
  },
  {
   "cell_type": "code",
   "execution_count": 157,
   "id": "996032e4-184b-4371-add2-8555f452df36",
   "metadata": {},
   "outputs": [
    {
     "data": {
      "text/plain": [
       "array([-1.74976547,  0.3426804 ,  1.1530358 , -0.25243604,  0.98132079,\n",
       "        0.51421884,  0.22117967, -1.07004333, -0.18949583,  0.25500144])"
      ]
     },
     "execution_count": 157,
     "metadata": {},
     "output_type": "execute_result"
    }
   ],
   "source": [
    "# Defining the mean (mu) and standard deviation (sigma) for a normal distribution.\n",
    "mu = 0\n",
    "sigma = 1\n",
    "\n",
    "# Generating an array of 10 random values from a normal distribution with mean 0 and standard deviation 1.\n",
    "np.random.normal(mu, sigma, 10)"
   ]
  },
  {
   "cell_type": "code",
   "execution_count": null,
   "id": "60774627-3a2a-4d4a-8c17-87f32c9aa798",
   "metadata": {},
   "outputs": [],
   "source": [
    "# Setting the precision for printing NumPy arrays to 2 decimal places.\n",
    "np.set_printoptions(precision=2)\n",
    "\n",
    "# Generating 10 random values from a normal distribution with mean 0 and standard deviation 1, with 2 decimal places.\n",
    "np.random.normal(mu, sigma, 10)"
   ]
  },
  {
   "cell_type": "code",
   "execution_count": 138,
   "id": "f2913eea-f73c-4718-9e5e-030cc60a74ab",
   "metadata": {},
   "outputs": [
    {
     "data": {
      "text/plain": [
       "array([8, 7, 4, 2, 5, 0, 9, 1, 3, 6])"
      ]
     },
     "execution_count": 138,
     "metadata": {},
     "output_type": "execute_result"
    }
   ],
   "source": [
    "# Creating a NumPy array with values from 0 to 9.\n",
    "q_array = np.arange(10)\n",
    "\n",
    "# Shuffling the elements of the array in-place.\n",
    "# np.random.shuffle(q_array) randomly shuffles the elements of the array q_array in-place, meaning the array is modified directly.\n",
    "np.random.shuffle(q_array)\n",
    "\n",
    "q_array"
   ]
  },
  {
   "cell_type": "code",
   "execution_count": 158,
   "id": "d3644185-eb3d-4e28-bffe-d64413d1f472",
   "metadata": {},
   "outputs": [
    {
     "data": {
      "text/plain": [
       "array([-1.74976547,  0.3426804 ,  1.1530358 , -0.25243604,  0.98132079,\n",
       "        0.51421884,  0.22117967, -1.07004333, -0.18949583,  0.25500144])"
      ]
     },
     "execution_count": 158,
     "metadata": {},
     "output_type": "execute_result"
    }
   ],
   "source": [
    "# Setting the random seed to ensure reproducibility of random number generation.\n",
    "# np.random.seed(100) sets the seed for NumPy's random number generator. \n",
    "# This ensures that the sequence of random numbers generated will be the same every time the code is run, \n",
    "# which is useful for reproducibility.\n",
    "np.random.seed(100)\n",
    "\n",
    "# Generating 10 random values from a normal distribution with mean 0 and standard deviation 1.\n",
    "np.random.normal(mu, sigma, 10)\n"
   ]
  },
  {
   "cell_type": "code",
   "execution_count": 141,
   "id": "fe43817a-2e98-4d80-8610-844839f2b7da",
   "metadata": {},
   "outputs": [
    {
     "name": "stdout",
     "output_type": "stream",
     "text": [
      "Writing q.txt\n"
     ]
    }
   ],
   "source": [
    "# Writing some data to a text file 'q.txt' using %%writefile magic command in Jupyter.\n",
    "%%writefile q.txt\n",
    "1 2 3 4 5 6\n",
    "7 8 9 1 2 3"
   ]
  },
  {
   "cell_type": "code",
   "execution_count": 144,
   "id": "3c3e4b0c-aaef-4195-bdb0-b7dbd02edd5c",
   "metadata": {},
   "outputs": [
    {
     "name": "stdout",
     "output_type": "stream",
     "text": [
      "[[1. 2. 3. 4. 5. 6.]\n",
      " [7. 8. 9. 1. 2. 3.]]\n"
     ]
    }
   ],
   "source": [
    "# Reading data from the file and processing it line by line.\n",
    "data = []\n",
    "with open('q.txt') as f:\n",
    "    for line in f.readlines():\n",
    "        fields = line.split()  # Splitting each line by spaces.\n",
    "        cur_data = [float(x) for x in fields]  # Converting the values to floats.\n",
    "        data.append(cur_data)\n",
    "data = np.array(data)  # Converting the list to a NumPy array.\n",
    "print(data)"
   ]
  },
  {
   "cell_type": "code",
   "execution_count": 146,
   "id": "500d8c12-60c7-407f-a49a-62ac2bf04456",
   "metadata": {},
   "outputs": [
    {
     "name": "stdout",
     "output_type": "stream",
     "text": [
      "[[1. 2. 3. 4. 5. 6.]\n",
      " [7. 8. 9. 1. 2. 3.]]\n"
     ]
    }
   ],
   "source": [
    "# Loading data directly from 'q.txt' using 'np.loadtxt', which automatically converts the data into a NumPy array.\n",
    "data2 = np.loadtxt('q.txt')\n",
    "\n",
    "print(data2)"
   ]
  },
  {
   "cell_type": "code",
   "execution_count": 149,
   "id": "67e880c2-1135-4df7-bc44-023a370abb93",
   "metadata": {},
   "outputs": [
    {
     "name": "stdout",
     "output_type": "stream",
     "text": [
      "Overwriting q2.txt\n"
     ]
    }
   ],
   "source": [
    "# Writing some comma-separated data to 'q2.txt'.\n",
    "%%writefile q2.txt\n",
    "1, 2, 3, 4, 5, 6\n",
    "7, 8, 9, 1, 2, 3"
   ]
  },
  {
   "cell_type": "code",
   "execution_count": 151,
   "id": "d9da0107-b510-455e-8c63-a752e44fa4ca",
   "metadata": {},
   "outputs": [
    {
     "name": "stdout",
     "output_type": "stream",
     "text": [
      "[[1. 2. 3. 4. 5. 6.]\n",
      " [7. 8. 9. 1. 2. 3.]]\n"
     ]
    }
   ],
   "source": [
    "# # Loading the data from 'q2.txt' using a comma delimiter.\n",
    "data3 = np.loadtxt('q2.txt', delimiter = ',')\n",
    "print(data3)"
   ]
  },
  {
   "cell_type": "code",
   "execution_count": 152,
   "id": "70311006-1727-48d7-b1fe-41238eca753a",
   "metadata": {},
   "outputs": [
    {
     "name": "stdout",
     "output_type": "stream",
     "text": [
      "Overwriting q2.txt\n"
     ]
    }
   ],
   "source": [
    "# Writing data with column headers to 'q2.txt'.\n",
    "%%writefile q2.txt\n",
    "x,y,z,w,a,b\n",
    "1, 2, 3, 4, 5, 6\n",
    "7, 8, 9, 1, 2, 3"
   ]
  },
  {
   "cell_type": "code",
   "execution_count": 153,
   "id": "88d5d7a3-11e0-4752-b9ac-533ba07b4ace",
   "metadata": {},
   "outputs": [
    {
     "name": "stdout",
     "output_type": "stream",
     "text": [
      "[[1. 2. 3. 4. 5. 6.]\n",
      " [7. 8. 9. 1. 2. 3.]]\n"
     ]
    }
   ],
   "source": [
    "# Loading the data from 'q2.txt' and skipping the first row (which contains column headers).\n",
    "data4 = np.loadtxt('q2.txt', delimiter=',', skiprows=1)\n",
    "print(data4)"
   ]
  },
  {
   "cell_type": "code",
   "execution_count": 154,
   "id": "5647da7a-085c-40a6-818b-eac9bf00dce2",
   "metadata": {},
   "outputs": [
    {
     "name": "stdout",
     "output_type": "stream",
     "text": [
      "Help on function loadtxt in module numpy:\n",
      "\n",
      "loadtxt(fname, dtype=<class 'float'>, comments='#', delimiter=None, converters=None, skiprows=0, usecols=None, unpack=False, ndmin=0, encoding='bytes', max_rows=None, *, quotechar=None, like=None)\n",
      "    Load data from a text file.\n",
      "    \n",
      "    Parameters\n",
      "    ----------\n",
      "    fname : file, str, pathlib.Path, list of str, generator\n",
      "        File, filename, list, or generator to read.  If the filename\n",
      "        extension is ``.gz`` or ``.bz2``, the file is first decompressed. Note\n",
      "        that generators must return bytes or strings. The strings\n",
      "        in a list or produced by a generator are treated as lines.\n",
      "    dtype : data-type, optional\n",
      "        Data-type of the resulting array; default: float.  If this is a\n",
      "        structured data-type, the resulting array will be 1-dimensional, and\n",
      "        each row will be interpreted as an element of the array.  In this\n",
      "        case, the number of columns used must match the number of fields in\n",
      "        the data-type.\n",
      "    comments : str or sequence of str or None, optional\n",
      "        The characters or list of characters used to indicate the start of a\n",
      "        comment. None implies no comments. For backwards compatibility, byte\n",
      "        strings will be decoded as 'latin1'. The default is '#'.\n",
      "    delimiter : str, optional\n",
      "        The character used to separate the values. For backwards compatibility,\n",
      "        byte strings will be decoded as 'latin1'. The default is whitespace.\n",
      "    \n",
      "        .. versionchanged:: 1.23.0\n",
      "           Only single character delimiters are supported. Newline characters\n",
      "           cannot be used as the delimiter.\n",
      "    \n",
      "    converters : dict or callable, optional\n",
      "        Converter functions to customize value parsing. If `converters` is\n",
      "        callable, the function is applied to all columns, else it must be a\n",
      "        dict that maps column number to a parser function.\n",
      "        See examples for further details.\n",
      "        Default: None.\n",
      "    \n",
      "        .. versionchanged:: 1.23.0\n",
      "           The ability to pass a single callable to be applied to all columns\n",
      "           was added.\n",
      "    \n",
      "    skiprows : int, optional\n",
      "        Skip the first `skiprows` lines, including comments; default: 0.\n",
      "    usecols : int or sequence, optional\n",
      "        Which columns to read, with 0 being the first. For example,\n",
      "        ``usecols = (1,4,5)`` will extract the 2nd, 5th and 6th columns.\n",
      "        The default, None, results in all columns being read.\n",
      "    \n",
      "        .. versionchanged:: 1.11.0\n",
      "            When a single column has to be read it is possible to use\n",
      "            an integer instead of a tuple. E.g ``usecols = 3`` reads the\n",
      "            fourth column the same way as ``usecols = (3,)`` would.\n",
      "    unpack : bool, optional\n",
      "        If True, the returned array is transposed, so that arguments may be\n",
      "        unpacked using ``x, y, z = loadtxt(...)``.  When used with a\n",
      "        structured data-type, arrays are returned for each field.\n",
      "        Default is False.\n",
      "    ndmin : int, optional\n",
      "        The returned array will have at least `ndmin` dimensions.\n",
      "        Otherwise mono-dimensional axes will be squeezed.\n",
      "        Legal values: 0 (default), 1 or 2.\n",
      "    \n",
      "        .. versionadded:: 1.6.0\n",
      "    encoding : str, optional\n",
      "        Encoding used to decode the inputfile. Does not apply to input streams.\n",
      "        The special value 'bytes' enables backward compatibility workarounds\n",
      "        that ensures you receive byte arrays as results if possible and passes\n",
      "        'latin1' encoded strings to converters. Override this value to receive\n",
      "        unicode arrays and pass strings as input to converters.  If set to None\n",
      "        the system default is used. The default value is 'bytes'.\n",
      "    \n",
      "        .. versionadded:: 1.14.0\n",
      "    max_rows : int, optional\n",
      "        Read `max_rows` rows of content after `skiprows` lines. The default is\n",
      "        to read all the rows. Note that empty rows containing no data such as\n",
      "        empty lines and comment lines are not counted towards `max_rows`,\n",
      "        while such lines are counted in `skiprows`.\n",
      "    \n",
      "        .. versionadded:: 1.16.0\n",
      "    \n",
      "        .. versionchanged:: 1.23.0\n",
      "            Lines containing no data, including comment lines (e.g., lines\n",
      "            starting with '#' or as specified via `comments`) are not counted\n",
      "            towards `max_rows`.\n",
      "    quotechar : unicode character or None, optional\n",
      "        The character used to denote the start and end of a quoted item.\n",
      "        Occurrences of the delimiter or comment characters are ignored within\n",
      "        a quoted item. The default value is ``quotechar=None``, which means\n",
      "        quoting support is disabled.\n",
      "    \n",
      "        If two consecutive instances of `quotechar` are found within a quoted\n",
      "        field, the first is treated as an escape character. See examples.\n",
      "    \n",
      "        .. versionadded:: 1.23.0\n",
      "    like : array_like, optional\n",
      "        Reference object to allow the creation of arrays which are not\n",
      "        NumPy arrays. If an array-like passed in as ``like`` supports\n",
      "        the ``__array_function__`` protocol, the result will be defined\n",
      "        by it. In this case, it ensures the creation of an array object\n",
      "        compatible with that passed in via this argument.\n",
      "    \n",
      "        .. versionadded:: 1.20.0\n",
      "    \n",
      "    Returns\n",
      "    -------\n",
      "    out : ndarray\n",
      "        Data read from the text file.\n",
      "    \n",
      "    See Also\n",
      "    --------\n",
      "    load, fromstring, fromregex\n",
      "    genfromtxt : Load data with missing values handled as specified.\n",
      "    scipy.io.loadmat : reads MATLAB data files\n",
      "    \n",
      "    Notes\n",
      "    -----\n",
      "    This function aims to be a fast reader for simply formatted files.  The\n",
      "    `genfromtxt` function provides more sophisticated handling of, e.g.,\n",
      "    lines with missing values.\n",
      "    \n",
      "    Each row in the input text file must have the same number of values to be\n",
      "    able to read all values. If all rows do not have same number of values, a\n",
      "    subset of up to n columns (where n is the least number of values present\n",
      "    in all rows) can be read by specifying the columns via `usecols`.\n",
      "    \n",
      "    .. versionadded:: 1.10.0\n",
      "    \n",
      "    The strings produced by the Python float.hex method can be used as\n",
      "    input for floats.\n",
      "    \n",
      "    Examples\n",
      "    --------\n",
      "    >>> from io import StringIO   # StringIO behaves like a file object\n",
      "    >>> c = StringIO(\"0 1\\n2 3\")\n",
      "    >>> np.loadtxt(c)\n",
      "    array([[0., 1.],\n",
      "           [2., 3.]])\n",
      "    \n",
      "    >>> d = StringIO(\"M 21 72\\nF 35 58\")\n",
      "    >>> np.loadtxt(d, dtype={'names': ('gender', 'age', 'weight'),\n",
      "    ...                      'formats': ('S1', 'i4', 'f4')})\n",
      "    array([(b'M', 21, 72.), (b'F', 35, 58.)],\n",
      "          dtype=[('gender', 'S1'), ('age', '<i4'), ('weight', '<f4')])\n",
      "    \n",
      "    >>> c = StringIO(\"1,0,2\\n3,0,4\")\n",
      "    >>> x, y = np.loadtxt(c, delimiter=',', usecols=(0, 2), unpack=True)\n",
      "    >>> x\n",
      "    array([1., 3.])\n",
      "    >>> y\n",
      "    array([2., 4.])\n",
      "    \n",
      "    The `converters` argument is used to specify functions to preprocess the\n",
      "    text prior to parsing. `converters` can be a dictionary that maps\n",
      "    preprocessing functions to each column:\n",
      "    \n",
      "    >>> s = StringIO(\"1.618, 2.296\\n3.141, 4.669\\n\")\n",
      "    >>> conv = {\n",
      "    ...     0: lambda x: np.floor(float(x)),  # conversion fn for column 0\n",
      "    ...     1: lambda x: np.ceil(float(x)),  # conversion fn for column 1\n",
      "    ... }\n",
      "    >>> np.loadtxt(s, delimiter=\",\", converters=conv)\n",
      "    array([[1., 3.],\n",
      "           [3., 5.]])\n",
      "    \n",
      "    `converters` can be a callable instead of a dictionary, in which case it\n",
      "    is applied to all columns:\n",
      "    \n",
      "    >>> s = StringIO(\"0xDE 0xAD\\n0xC0 0xDE\")\n",
      "    >>> import functools\n",
      "    >>> conv = functools.partial(int, base=16)\n",
      "    >>> np.loadtxt(s, converters=conv)\n",
      "    array([[222., 173.],\n",
      "           [192., 222.]])\n",
      "    \n",
      "    This example shows how `converters` can be used to convert a field\n",
      "    with a trailing minus sign into a negative number.\n",
      "    \n",
      "    >>> s = StringIO('10.01 31.25-\\n19.22 64.31\\n17.57- 63.94')\n",
      "    >>> def conv(fld):\n",
      "    ...     return -float(fld[:-1]) if fld.endswith(b'-') else float(fld)\n",
      "    ...\n",
      "    >>> np.loadtxt(s, converters=conv)\n",
      "    array([[ 10.01, -31.25],\n",
      "           [ 19.22,  64.31],\n",
      "           [-17.57,  63.94]])\n",
      "    \n",
      "    Using a callable as the converter can be particularly useful for handling\n",
      "    values with different formatting, e.g. floats with underscores:\n",
      "    \n",
      "    >>> s = StringIO(\"1 2.7 100_000\")\n",
      "    >>> np.loadtxt(s, converters=float)\n",
      "    array([1.e+00, 2.7e+00, 1.e+05])\n",
      "    \n",
      "    This idea can be extended to automatically handle values specified in\n",
      "    many different formats:\n",
      "    \n",
      "    >>> def conv(val):\n",
      "    ...     try:\n",
      "    ...         return float(val)\n",
      "    ...     except ValueError:\n",
      "    ...         return float.fromhex(val)\n",
      "    >>> s = StringIO(\"1, 2.5, 3_000, 0b4, 0x1.4000000000000p+2\")\n",
      "    >>> np.loadtxt(s, delimiter=\",\", converters=conv, encoding=None)\n",
      "    array([1.0e+00, 2.5e+00, 3.0e+03, 1.8e+02, 5.0e+00])\n",
      "    \n",
      "    Note that with the default ``encoding=\"bytes\"``, the inputs to the\n",
      "    converter function are latin-1 encoded byte strings. To deactivate the\n",
      "    implicit encoding prior to conversion, use ``encoding=None``\n",
      "    \n",
      "    >>> s = StringIO('10.01 31.25-\\n19.22 64.31\\n17.57- 63.94')\n",
      "    >>> conv = lambda x: -float(x[:-1]) if x.endswith('-') else float(x)\n",
      "    >>> np.loadtxt(s, converters=conv, encoding=None)\n",
      "    array([[ 10.01, -31.25],\n",
      "           [ 19.22,  64.31],\n",
      "           [-17.57,  63.94]])\n",
      "    \n",
      "    Support for quoted fields is enabled with the `quotechar` parameter.\n",
      "    Comment and delimiter characters are ignored when they appear within a\n",
      "    quoted item delineated by `quotechar`:\n",
      "    \n",
      "    >>> s = StringIO('\"alpha, #42\", 10.0\\n\"beta, #64\", 2.0\\n')\n",
      "    >>> dtype = np.dtype([(\"label\", \"U12\"), (\"value\", float)])\n",
      "    >>> np.loadtxt(s, dtype=dtype, delimiter=\",\", quotechar='\"')\n",
      "    array([('alpha, #42', 10.), ('beta, #64',  2.)],\n",
      "          dtype=[('label', '<U12'), ('value', '<f8')])\n",
      "    \n",
      "    Quoted fields can be separated by multiple whitespace characters:\n",
      "    \n",
      "    >>> s = StringIO('\"alpha, #42\"       10.0\\n\"beta, #64\" 2.0\\n')\n",
      "    >>> dtype = np.dtype([(\"label\", \"U12\"), (\"value\", float)])\n",
      "    >>> np.loadtxt(s, dtype=dtype, delimiter=None, quotechar='\"')\n",
      "    array([('alpha, #42', 10.), ('beta, #64',  2.)],\n",
      "          dtype=[('label', '<U12'), ('value', '<f8')])\n",
      "    \n",
      "    Two consecutive quote characters within a quoted field are treated as a\n",
      "    single escaped character:\n",
      "    \n",
      "    >>> s = StringIO('\"Hello, my name is \"\"Monty\"\"!\"')\n",
      "    >>> np.loadtxt(s, dtype=\"U\", delimiter=\",\", quotechar='\"')\n",
      "    array('Hello, my name is \"Monty\"!', dtype='<U26')\n",
      "    \n",
      "    Read subset of columns when all rows do not contain equal number of values:\n",
      "    \n",
      "    >>> d = StringIO(\"1 2\\n2 4\\n3 9 12\\n4 16 20\")\n",
      "    >>> np.loadtxt(d, usecols=(0, 1))\n",
      "    array([[ 1.,  2.],\n",
      "           [ 2.,  4.],\n",
      "           [ 3.,  9.],\n",
      "           [ 4., 16.]])\n",
      "\n",
      "None\n"
     ]
    }
   ],
   "source": [
    "# Displaying the help documentation for the 'np.loadtxt' function.\n",
    "# This function is used to load data from a text file, with many configurable options.\n",
    "# The help function provides detailed information about its parameters and usage.\n",
    "print(help(np.loadtxt))"
   ]
  },
  {
   "cell_type": "code",
   "execution_count": 155,
   "id": "90d18123-3983-4e97-88b6-7f8eb26a76e2",
   "metadata": {},
   "outputs": [],
   "source": [
    "# Saving a NumPy array to a text file named 'q4.txt'.\n",
    "# The 'fmt' argument specifies the format of the values (in this case, integers '%d'),\n",
    "# and 'delimiter' specifies that the values should be separated by commas in the file.\n",
    "np.savetxt('q4.txt', q_array, fmt='%d', delimiter=',')"
   ]
  },
  {
   "cell_type": "code",
   "execution_count": 156,
   "id": "4ad56ca2-9451-48f9-9e82-d8299e3354af",
   "metadata": {},
   "outputs": [
    {
     "data": {
      "text/plain": [
       "array([[1, 2, 3],\n",
       "       [4, 5, 6]])"
      ]
     },
     "execution_count": 156,
     "metadata": {},
     "output_type": "execute_result"
    }
   ],
   "source": [
    "# Creating a 2x3 NumPy array.\n",
    "q_array = np.array([[1, 2, 3], [4, 5, 6]])\n",
    "\n",
    "# Saving the array to a binary file 'q5.npy'.\n",
    "# The .npy format is a binary format specifically for NumPy arrays. It is more efficient\n",
    "# than text formats for large datasets, preserving data types and shapes.\n",
    "np.save('q5.npy', q_array)\n",
    "\n",
    "# Loading the saved array back from the binary file.\n",
    "np.load('q5.npy')"
   ]
  },
  {
   "cell_type": "code",
   "execution_count": null,
   "id": "110a281d-2386-407b-8b3f-f337faee4695",
   "metadata": {},
   "outputs": [],
   "source": []
  }
 ],
 "metadata": {
  "kernelspec": {
   "display_name": "Python 3 (ipykernel)",
   "language": "python",
   "name": "python3"
  },
  "language_info": {
   "codemirror_mode": {
    "name": "ipython",
    "version": 3
   },
   "file_extension": ".py",
   "mimetype": "text/x-python",
   "name": "python",
   "nbconvert_exporter": "python",
   "pygments_lexer": "ipython3",
   "version": "3.11.7"
  }
 },
 "nbformat": 4,
 "nbformat_minor": 5
}
